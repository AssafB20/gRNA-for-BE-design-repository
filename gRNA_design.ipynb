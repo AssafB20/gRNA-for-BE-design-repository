{
 "cells": [
  {
   "cell_type": "code",
   "execution_count": 2,
   "metadata": {},
   "outputs": [],
   "source": [
    "pam = {'spCas9':['agg','cgg','ggg','tgg'], \n",
    "       'spCas9-VQR':['agaa','agac','agag','agat','cgaa','cgac','cgag','cgat','ggaa','ggac','ggag','ggat','tgaa','tgac','tgag','tgat'],\n",
    "       'spCas9-EQR':['agag','cgag','ggag','tgag'],'spCas9-VRER':['agcg','cgcg','ggcg','tgcg'],\n",
    "       'saCas9':['aagaat','aagagt','aaggat','aagggt','acgaat','acgagt','acggat','acgggt','aggaat','aggagt','agggat','aggggt','atgaat','atgagt','atggat','atgggt',\n",
    "                 'cagaat','cagagt','caggat','cagggt','ccgaat','ccgagt','ccggat','ccgggt','cggaat','cggagt','cgggat','cggggt','ctgaat','ctgagt','ctggat','ctgggt',\n",
    "                 'gagaat','gagagt','gaggat','gagggt','gcgaat','gcgagt','gcggat','gcgggt','gggaat','gggagt','ggggat','gggggt','gtgaat','gtgagt','gtggat','gtgggt',\n",
    "                 'tagaat','tagagt','taggat','tagggt','tcgaat','tcgagt','tcggat','tcgggt','tggaat','tggagt','tgggat','tggggt','ttgaat','ttgagt','ttggat','ttgggt'],\n",
    "       'saCas9-KKH':\n",
    "                ['aaaaat','aaaagt','aaagat','aaaggt','acaaat','acaagt','acagat','acaggt','agaaat','agaagt','agagat','agaggt','ataaat','ataagt','atagat','ataggt',\n",
    "                 'caaaat','caaagt','caagat','caaggt','ccaaat','ccaagt','ccagat','ccaggt','cgaaat','cgaagt','cgagat','cgaggt','ctaaat','ctaagt','ctagat','ctaggt',\n",
    "                 'gaaaat','gaaagt','gaagat','gaaggt','gcaaat','gcaagt','gcagat','gcaggt','ggaaat','ggaagt','ggagat','ggaggt','gtaaat','gtaagt','gtagat','gtaggt',\n",
    "                 'taaaat','taaagt','taagat','taaggt','tcaaat','tcaagt','tcagat','tcaggt','tgaaat','tgaagt','tgagat','tgaggt','ttaaat','ttaagt','ttagat','ttaggt',\n",
    "                 \n",
    "                 'aacaat','aacagt','aacgat','aacggt','accaat','accagt','accgat','accggt','agcaat','agcagt','agcgat','agcggt','atcaat','atcagt','atcgat','atcggt',\n",
    "                 'cacaat','cacagt','cacgat','cacggt','cccaat','cccagt','cccgat','cccggt','cgcaat','cgcagt','cgcgat','cgcggt','ctcaat','ctcagt','ctcgat','ctcggt',\n",
    "                 'gacaat','gacagt','gacgat','gacggt','gccaat','gccagt','gccgat','gccggt','ggcaat','ggcagt','ggcgat','ggcggt','gtcaat','gtcagt','gtcgat','gtcggt',\n",
    "                 'tacaat','tacagt','tacgat','tacggt','tccaat','tccagt','tccgat','tccggt','tgcaat','tgcagt','tgcgat','tgcggt','ttcaat','ttcagt','ttcgat','ttcggt',\n",
    "           \n",
    "                 'aagaat','aagagt','aaggat','aagggt','acgaat','acgagt','acggat','acgggt','aggaat','aggagt','agggat','aggggt','atgaat','atgagt','atggat','atgggt',\n",
    "                 'cagaat','cagagt','caggat','cagggt','ccgaat','ccgagt','ccggat','ccgggt','cggaat','cggagt','cgggat','cggggt','ctgaat','ctgagt','ctggat','ctgggt',\n",
    "                 'gagaat','gagagt','gaggat','gagggt','gcgaat','gcgagt','gcggat','gcgggt','gggaat','gggagt','ggggat','gggggt','gtgaat','gtgagt','gtggat','gtgggt',\n",
    "                 'tagaat','tagagt','taggat','tagggt','tcgaat','tcgagt','tcggat','tcgggt','tggaat','tggagt','tgggat','tggggt','ttgaat','ttgagt','ttggat','ttgggt',\n",
    "\n",
    "                 'aataat','aatagt','aatgat','aatggt','actaat','actagt','actgat','actggt','agtaat','agtagt','agtgat','agtggt','attaat','attagt','attgat','attggt',\n",
    "                 'cataat','catagt','catgat','catggt','cctaat','cctagt','cctgat','cctggt','cgtaat','cgtagt','cgtgat','cgtggt','cttaat','cttagt','cttgat','cttggt',\n",
    "                 'gataat','gatagt','gatgat','gatggt','gctaat','gctagt','gctgat','gctggt','ggtaat','ggtagt','ggtgat','ggtggt','gttaat','gttagt','gttgat','gttggt',\n",
    "                'tataat','tatagt','tatgat','tatggt','tctaat','tctagt','tctgat','tctggt','tgtaat','tgtagt','tgtgat','tgtggt','tttaat','tttagt','tttgat','tttggt'\n",
    "                ],\n",
    "       'xCas9':['agt','cgt','ggt','tgt'],\n",
    "       \n",
    "       'Cas9-NG (NGK>NGM)':['ag','cg','gg','tg']}\n"
   ]
  },
  {
   "cell_type": "markdown",
   "metadata": {},
   "source": [
    "\n",
    "SpCas9 from Streptococcus pyogenes: 5'-NGG-3'\n",
    "\n",
    "SpCas9-VQR from Streptococcus pyogenes: 5'-NGAN-3'\n",
    "\n",
    "SpCas9-EQR from Streptococcus pyogenes: 5'-NGAG-3'\n",
    "\n",
    "SpCas9-VRER from Streptococcus pyogenes: 5'-NGCG-3'\n",
    "\n",
    "SaCas9 from Staphylococcus aureus: 5'-NNGRRT-'3\n",
    "\n",
    "SaCas9-KKH from Staphylococcus aureus: 5'-NNNRRT-'3\n",
    "\n",
    "xCas9 3.7 (TLIKDIV SpCas9) from Streptococcus pyogenes: 5'-NGT-3'\n",
    "\n",
    "N - any base\n",
    "\n",
    "R - A or G\n",
    "\n",
    "K - G or T\n",
    "\n",
    "M - A or C"
   ]
  },
  {
   "cell_type": "code",
   "execution_count": 3,
   "metadata": {},
   "outputs": [],
   "source": [
    "import re"
   ]
  },
  {
   "cell_type": "code",
   "execution_count": 4,
   "metadata": {},
   "outputs": [],
   "source": [
    "def comp_strand(strand):  #this function gets a sequence and returns its complement strand with keeping the mutation in capital.\n",
    " old_chars = \"TGacgt\"\n",
    " replace_chars = \"ACtgca\"\n",
    " tab = str.maketrans(old_chars,replace_chars)\n",
    " return strand.translate(tab)[::-1]   # returns the complement strand 5' -> 3'"
   ]
  },
  {
   "cell_type": "code",
   "execution_count": 5,
   "metadata": {},
   "outputs": [],
   "source": [
    "def targetfinder(filename): #filename - a text file with a list of sequences with mutation in capital letter, be - base-editor\n",
    "    be = input('for adenine base editing send a, for cytidine base editing send c: ')\n",
    "    y={}\n",
    "    x=0\n",
    "    mut_loc=0\n",
    "    f= open('results.txt','w')\n",
    "    temp = open(filename,'r').read().split('\\n\\n')       #the seqs in the file are separated by blank lines..so split the seqs\n",
    "    for seq in temp:\n",
    "        seq = seq.replace(\" \",\"\")             # for each seq, ignore the spaces within\n",
    "        if be == 'a':                       # input 'a' was for adenine base editor\n",
    "            mut_loc = seq.find('A')            # find the position of 'A' in the seq - which is the ONLY capital letter in it\n",
    "            win = [14,15,16]                 # the activity window of adenine base editor\n",
    "            if mut_loc == -1:               # if it didn't find 'A' in the seq, I guess the user gave us a strand with a 'T' mutation\n",
    "                seq = comp_strand(seq)      # call a function that will give the complement strand, but keep the mutation in capital letter \n",
    "                mut_loc = seq.find('A')     # and now search for the 'A' position\n",
    "                \n",
    "        if be == 'c':                      # same goes for c base editor\n",
    "            mut_loc = seq.find('C')\n",
    "            win = [14,15,16,17]\n",
    "            if mut_loc == -1:\n",
    "                seq = comp_strand(seq)\n",
    "                mut_loc = seq.find('C')\n",
    "        \n",
    "        for key, value in pam.items():                # pam is a dic with key-cas9 and values-their pam sites\n",
    "                for p in value:                       \n",
    "                    for x in re.finditer(p, seq[mut_loc:]):           # for every pam sites that is located AFTER the mutation position...because base editors' pams are downstream to the mutation\n",
    "                        x = x.start() + mut_loc                       # x is the position of the first base of the pam site\n",
    "                        if mut_loc in range(x-win[-1],x-win[0]+1):          # if the mutation located in the activity window\n",
    "                            bystand = seq.count(be,x-win[-1],x-win[0]+1)    # search for another 'a' (or 'c') in this window\n",
    "                            editwin = seq[x-win[-1]:x-win[0]+1]             # the window sequence itself\n",
    "                            y.setdefault(seq,[]).append([key,'5-'+seq[x-20:x+len(p)]+'-3',editwin,bystand]) # append to a dic where key is the seq, values are the type of cas9, gRNA, editing window, how many if any bystanders\n",
    "                        \n",
    "    for k,v in y.items():\n",
    "        f.write(str(k) + ' >>> ' + str(v) + '\\n\\n')          #write the results (list of dic items) to a text file\n",
    "                          \n",
    "    open(filename,'r').close()\n",
    "    f.close()\n",
    "    return y           #besides writing it to a text file, I thought it was important to return the list for future coding"
   ]
  },
  {
   "cell_type": "code",
   "execution_count": 9,
   "metadata": {
    "scrolled": true
   },
   "outputs": [
    {
     "name": "stdout",
     "output_type": "stream",
     "text": [
      "for adenine base editing send a, for cytidine base editing send c: c\n"
     ]
    }
   ],
   "source": [
    "y=targetfinder('patients.txt')"
   ]
  }
 ],
 "metadata": {
  "kernelspec": {
   "display_name": "Python 3",
   "language": "python",
   "name": "python3"
  },
  "language_info": {
   "codemirror_mode": {
    "name": "ipython",
    "version": 3
   },
   "file_extension": ".py",
   "mimetype": "text/x-python",
   "name": "python",
   "nbconvert_exporter": "python",
   "pygments_lexer": "ipython3",
   "version": "3.7.6"
  }
 },
 "nbformat": 4,
 "nbformat_minor": 4
}
